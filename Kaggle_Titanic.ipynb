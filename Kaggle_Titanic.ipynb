{
  "nbformat": 4,
  "nbformat_minor": 0,
  "metadata": {
    "colab": {
      "name": "Kaggle_Titanic.ipynb",
      "provenance": [],
      "collapsed_sections": [],
      "include_colab_link": true
    },
    "kernelspec": {
      "name": "python3",
      "display_name": "Python 3"
    }
  },
  "cells": [
    {
      "cell_type": "markdown",
      "metadata": {
        "id": "view-in-github",
        "colab_type": "text"
      },
      "source": [
        "<a href=\"https://colab.research.google.com/github/Val3nt-ML/Kaggle-Competitions/blob/master/Kaggle_Titanic.ipynb\" target=\"_parent\"><img src=\"https://colab.research.google.com/assets/colab-badge.svg\" alt=\"Open In Colab\"/></a>"
      ]
    },
    {
      "cell_type": "code",
      "metadata": {
        "id": "xSbgAC_vEpyR",
        "colab_type": "code",
        "outputId": "73260365-7f90-452c-b7de-a92c5bde0563",
        "colab": {
          "base_uri": "https://localhost:8080/",
          "height": 102
        }
      },
      "source": [
        "from google.colab import drive\n",
        "import sys\n",
        "drive.mount('/content/gdrive')\n",
        "!nvcc --version\n",
        "#!ls /content/gdrive/My\\ Drive/collaborative-rnn/*.py\n",
        "#!cat '/content/gdrive/My Drive/collaborative-rnn/crnn.py'\n",
        "sys.path.append('/content/gdrive/My Drive/Kaggle/Titanic/')\n",
        "\n",
        "import pandas as pd\n",
        "pd.set_option('display.max_columns', 16)"
      ],
      "execution_count": 0,
      "outputs": [
        {
          "output_type": "stream",
          "text": [
            "Drive already mounted at /content/gdrive; to attempt to forcibly remount, call drive.mount(\"/content/gdrive\", force_remount=True).\n",
            "nvcc: NVIDIA (R) Cuda compiler driver\n",
            "Copyright (c) 2005-2018 NVIDIA Corporation\n",
            "Built on Sat_Aug_25_21:08:01_CDT_2018\n",
            "Cuda compilation tools, release 10.0, V10.0.130\n"
          ],
          "name": "stdout"
        }
      ]
    },
    {
      "cell_type": "code",
      "metadata": {
        "id": "7CgABkNHFIes",
        "colab_type": "code",
        "colab": {}
      },
      "source": [
        "import matplotlib.pyplot as plt\n",
        "import numpy as np\n",
        "from sklearn.utils import resample, shuffle\n",
        "from sklearn.model_selection import train_test_split"
      ],
      "execution_count": 0,
      "outputs": []
    },
    {
      "cell_type": "markdown",
      "metadata": {
        "id": "XngI6UHIFPNG",
        "colab_type": "text"
      },
      "source": [
        "## **Pré-Traitement des données**"
      ]
    },
    {
      "cell_type": "code",
      "metadata": {
        "id": "N-Qo6TEHEzQW",
        "colab_type": "code",
        "outputId": "8990c9d6-9a86-4d75-a5a7-fa7aec9f6cbe",
        "colab": {
          "base_uri": "https://localhost:8080/",
          "height": 853
        }
      },
      "source": [
        "df=pd.read_csv(\"/content/gdrive/My Drive/Kaggle/Titanic/train.csv\")\n",
        "df_test=pd.read_csv(\"/content/gdrive/My Drive/Kaggle/Titanic/test.csv\")\n",
        "\n",
        "df_all=pd.concat([df,df_test])\n",
        "print(df_all.count)\n",
        "#print(df.dtypes)"
      ],
      "execution_count": 0,
      "outputs": [
        {
          "output_type": "stream",
          "text": [
            "<bound method DataFrame.count of       Age Cabin Embarked      Fare  \\\n",
            "0    22.0   NaN        S    7.2500   \n",
            "1    38.0   C85        C   71.2833   \n",
            "2    26.0   NaN        S    7.9250   \n",
            "3    35.0  C123        S   53.1000   \n",
            "4    35.0   NaN        S    8.0500   \n",
            "..    ...   ...      ...       ...   \n",
            "413   NaN   NaN        S    8.0500   \n",
            "414  39.0  C105        C  108.9000   \n",
            "415  38.5   NaN        S    7.2500   \n",
            "416   NaN   NaN        S    8.0500   \n",
            "417   NaN   NaN        C   22.3583   \n",
            "\n",
            "                                                  Name  Parch  PassengerId  \\\n",
            "0                              Braund, Mr. Owen Harris      0            1   \n",
            "1    Cumings, Mrs. John Bradley (Florence Briggs Th...      0            2   \n",
            "2                               Heikkinen, Miss. Laina      0            3   \n",
            "3         Futrelle, Mrs. Jacques Heath (Lily May Peel)      0            4   \n",
            "4                             Allen, Mr. William Henry      0            5   \n",
            "..                                                 ...    ...          ...   \n",
            "413                                 Spector, Mr. Woolf      0         1305   \n",
            "414                       Oliva y Ocana, Dona. Fermina      0         1306   \n",
            "415                       Saether, Mr. Simon Sivertsen      0         1307   \n",
            "416                                Ware, Mr. Frederick      0         1308   \n",
            "417                           Peter, Master. Michael J      1         1309   \n",
            "\n",
            "     Pclass     Sex  SibSp  Survived              Ticket  \n",
            "0         3    male      1       0.0           A/5 21171  \n",
            "1         1  female      1       1.0            PC 17599  \n",
            "2         3  female      0       1.0    STON/O2. 3101282  \n",
            "3         1  female      1       1.0              113803  \n",
            "4         3    male      0       0.0              373450  \n",
            "..      ...     ...    ...       ...                 ...  \n",
            "413       3    male      0       NaN           A.5. 3236  \n",
            "414       1  female      0       NaN            PC 17758  \n",
            "415       3    male      0       NaN  SOTON/O.Q. 3101262  \n",
            "416       3    male      0       NaN              359309  \n",
            "417       3    male      1       NaN                2668  \n",
            "\n",
            "[1309 rows x 12 columns]>\n"
          ],
          "name": "stdout"
        },
        {
          "output_type": "stream",
          "text": [
            "/usr/local/lib/python3.6/dist-packages/ipykernel_launcher.py:4: FutureWarning: Sorting because non-concatenation axis is not aligned. A future version\n",
            "of pandas will change to not sort by default.\n",
            "\n",
            "To accept the future behavior, pass 'sort=False'.\n",
            "\n",
            "To retain the current behavior and silence the warning, pass 'sort=True'.\n",
            "\n",
            "  after removing the cwd from sys.path.\n"
          ],
          "name": "stderr"
        }
      ]
    },
    {
      "cell_type": "code",
      "metadata": {
        "id": "3sBwZ1vAFF-t",
        "colab_type": "code",
        "outputId": "05a03a48-a53a-477d-89b9-19b228498dd3",
        "colab": {
          "base_uri": "https://localhost:8080/",
          "height": 986
        }
      },
      "source": [
        "print(df_all.count)\n",
        "print(\"Valeurs Manquantes de DF_Train avant processing: \\n\")\n",
        "print(df.isna().sum())\n",
        "print(\"\\n\")"
      ],
      "execution_count": 0,
      "outputs": [
        {
          "output_type": "stream",
          "text": [
            "<bound method DataFrame.count of       Age Cabin Embarked      Fare  \\\n",
            "0    22.0   NaN        S    7.2500   \n",
            "1    38.0   C85        C   71.2833   \n",
            "2    26.0   NaN        S    7.9250   \n",
            "3    35.0  C123        S   53.1000   \n",
            "4    35.0   NaN        S    8.0500   \n",
            "..    ...   ...      ...       ...   \n",
            "413   NaN   NaN        S    8.0500   \n",
            "414  39.0  C105        C  108.9000   \n",
            "415  38.5   NaN        S    7.2500   \n",
            "416   NaN   NaN        S    8.0500   \n",
            "417   NaN   NaN        C   22.3583   \n",
            "\n",
            "                                                  Name  Parch  PassengerId  \\\n",
            "0                              Braund, Mr. Owen Harris      0            1   \n",
            "1    Cumings, Mrs. John Bradley (Florence Briggs Th...      0            2   \n",
            "2                               Heikkinen, Miss. Laina      0            3   \n",
            "3         Futrelle, Mrs. Jacques Heath (Lily May Peel)      0            4   \n",
            "4                             Allen, Mr. William Henry      0            5   \n",
            "..                                                 ...    ...          ...   \n",
            "413                                 Spector, Mr. Woolf      0         1305   \n",
            "414                       Oliva y Ocana, Dona. Fermina      0         1306   \n",
            "415                       Saether, Mr. Simon Sivertsen      0         1307   \n",
            "416                                Ware, Mr. Frederick      0         1308   \n",
            "417                           Peter, Master. Michael J      1         1309   \n",
            "\n",
            "     Pclass     Sex  SibSp  Survived              Ticket  \n",
            "0         3    male      1       0.0           A/5 21171  \n",
            "1         1  female      1       1.0            PC 17599  \n",
            "2         3  female      0       1.0    STON/O2. 3101282  \n",
            "3         1  female      1       1.0              113803  \n",
            "4         3    male      0       0.0              373450  \n",
            "..      ...     ...    ...       ...                 ...  \n",
            "413       3    male      0       NaN           A.5. 3236  \n",
            "414       1  female      0       NaN            PC 17758  \n",
            "415       3    male      0       NaN  SOTON/O.Q. 3101262  \n",
            "416       3    male      0       NaN              359309  \n",
            "417       3    male      1       NaN                2668  \n",
            "\n",
            "[1309 rows x 12 columns]>\n",
            "Valeurs Manquantes de DF_Train avant processing: \n",
            "\n",
            "PassengerId      0\n",
            "Survived         0\n",
            "Pclass           0\n",
            "Name             0\n",
            "Sex              0\n",
            "Age            177\n",
            "SibSp            0\n",
            "Parch            0\n",
            "Ticket           0\n",
            "Fare             0\n",
            "Cabin          687\n",
            "Embarked         2\n",
            "dtype: int64\n",
            "\n",
            "\n"
          ],
          "name": "stdout"
        }
      ]
    },
    {
      "cell_type": "code",
      "metadata": {
        "id": "nA4BJlnm-mi1",
        "colab_type": "code",
        "outputId": "e0b4c437-cd05-4a28-de6b-6227d79e2fe3",
        "colab": {
          "base_uri": "https://localhost:8080/",
          "height": 349
        }
      },
      "source": [
        "df_all.hist(column=['Age'], bins=20)\n",
        "df_all.Embarked.value_counts()"
      ],
      "execution_count": 0,
      "outputs": [
        {
          "output_type": "execute_result",
          "data": {
            "text/plain": [
              "S    914\n",
              "C    270\n",
              "Q    123\n",
              "Name: Embarked, dtype: int64"
            ]
          },
          "metadata": {
            "tags": []
          },
          "execution_count": 313
        },
        {
          "output_type": "display_data",
          "data": {
            "image/png": "[encoded data removed]",
            "text/plain": [
              "<Figure size 432x288 with 1 Axes>"
            ]
          },
          "metadata": {
            "tags": []
          }
        }
      ]
    },
    {
      "cell_type": "markdown",
      "metadata": {
        "id": "sRVmdiGMpyN5",
        "colab_type": "text"
      },
      "source": [
        "On peut remarquer que:\n",
        "  -Age: environ Distribution Normale => On remplace les NA par la valeur médiane\n",
        "  -Embarked: S est la classe majoritaire, on peut remplacer les 2 valeurs manquantes par cette classe.\n",
        "  -Cabin: On a 77% de valeurs manquantes\n"
      ]
    },
    {
      "cell_type": "markdown",
      "metadata": {
        "id": "yMqFXIyIHlqs",
        "colab_type": "text"
      },
      "source": [
        "On peut remarquer que la variable Cabin est manquante dans 77% des cas, on peut donc raisonnablement faire le choix de ne pas tenir compte de cette variable."
      ]
    },
    {
      "cell_type": "markdown",
      "metadata": {
        "id": "T3vf4pcoIOd5",
        "colab_type": "text"
      },
      "source": [
        "# **Processing de la variable 'Name':** Ajout de la variable Title"
      ]
    },
    {
      "cell_type": "code",
      "metadata": {
        "id": "161hCO1lILzc",
        "colab_type": "code",
        "outputId": "75ec543b-432b-4496-f4dc-fc79c3a91016",
        "colab": {
          "base_uri": "https://localhost:8080/",
          "height": 85
        }
      },
      "source": [
        "#Converti le String Name en son nombre de caractères \n",
        "#df['Name'] = df['Name'].apply(len)\n",
        "#df_test['Name'] = df_test['Name'].apply(len)\n",
        "\n",
        "Title_Dictionary = {\n",
        "    \"Capt\": \"Officer\",\n",
        "    \"Col\": \"Officer\",\n",
        "    \"Major\": \"Officer\",\n",
        "    \"Jonkheer\": \"Royalty\",\n",
        "    \"Don\": \"Royalty\",\n",
        "    \"Sir\" : \"Royalty\",\n",
        "    \"Dr\": \"Officer\",\n",
        "    \"Rev\": \"Officer\",\n",
        "    \"the Countess\":\"Royalty\",\n",
        "    \"Mme\": \"Mrs\",\n",
        "    \"Mlle\": \"Miss\",\n",
        "    \"Ms\": \"Mrs\",\n",
        "    \"Mr\" : \"Mr\",\n",
        "    \"Mrs\" : \"Mrs\",\n",
        "    \"Miss\" : \"Miss\",\n",
        "    \"Master\" : \"Master\",\n",
        "    \"Lady\" : \"Royalty\",\n",
        "    #Donnée n° 1305 ayant pour titre \"Dona\"\n",
        "    \"Dona\"  : \"Other\"\n",
        "}\n",
        "\n",
        "def get_titles(combined):\n",
        "    # we extract the title from each name\n",
        "    combined['Title'] = combined['Name'].map(lambda name:name.split(',')[1].split('.')[0].strip())\n",
        "    \n",
        "    # a map of more aggregated title\n",
        "    # we map each title\n",
        "    combined['Title'] = combined.Title.map(Title_Dictionary)\n",
        "    combined.drop('Name', axis=1, inplace=True)\n",
        "    return combined\n",
        "\n",
        "get_titles(df_all)\n",
        "\n",
        "df_all.head()\n",
        "print(df_all.shape)\n",
        "\n",
        "print(df_all[df_all['Title'].isnull()])"
      ],
      "execution_count": 0,
      "outputs": [
        {
          "output_type": "stream",
          "text": [
            "(1309, 12)\n",
            "Empty DataFrame\n",
            "Columns: [Age, Cabin, Embarked, Fare, Parch, PassengerId, Pclass, Sex, SibSp, Survived, Ticket, Title]\n",
            "Index: []\n"
          ],
          "name": "stdout"
        }
      ]
    },
    {
      "cell_type": "markdown",
      "metadata": {
        "id": "cHRbk9VEIgkB",
        "colab_type": "text"
      },
      "source": [
        "*On cherche à afficher l'age median des passagers en fonction de leur sexe, leur classe et leur Titre*"
      ]
    },
    {
      "cell_type": "code",
      "metadata": {
        "id": "CGX3TGnAIYoX",
        "colab_type": "code",
        "outputId": "98370274-4a46-43a6-cd16-2ec8bbf6a27d",
        "colab": {
          "base_uri": "https://localhost:8080/",
          "height": 323
        }
      },
      "source": [
        "grouped_train = df_all.iloc[:891].groupby(['Sex','Pclass','Title'])\n",
        "grouped_median_train = grouped_train.median()\n",
        "grouped_median_train = grouped_median_train.reset_index()[['Sex', 'Pclass', 'Title', 'Age']]\n",
        "print(grouped_median_train)"
      ],
      "execution_count": 0,
      "outputs": [
        {
          "output_type": "stream",
          "text": [
            "       Sex  Pclass    Title   Age\n",
            "0   female       1     Miss  30.0\n",
            "1   female       1      Mrs  40.0\n",
            "2   female       1  Officer  49.0\n",
            "3   female       1  Royalty  40.5\n",
            "4   female       2     Miss  24.0\n",
            "5   female       2      Mrs  31.5\n",
            "6   female       3     Miss  18.0\n",
            "7   female       3      Mrs  31.0\n",
            "8     male       1   Master   4.0\n",
            "9     male       1       Mr  40.0\n",
            "10    male       1  Officer  51.0\n",
            "11    male       1  Royalty  40.0\n",
            "12    male       2   Master   1.0\n",
            "13    male       2       Mr  31.0\n",
            "14    male       2  Officer  46.5\n",
            "15    male       3   Master   4.0\n",
            "16    male       3       Mr  26.0\n"
          ],
          "name": "stdout"
        }
      ]
    },
    {
      "cell_type": "markdown",
      "metadata": {
        "id": "81BW9k8VKfoM",
        "colab_type": "text"
      },
      "source": [
        "# **Processing de la variable 'Age'**\n"
      ]
    },
    {
      "cell_type": "code",
      "metadata": {
        "id": "TRXTWQFqJDPi",
        "colab_type": "code",
        "colab": {}
      },
      "source": [
        "def fill_age(row):\n",
        "    condition = (\n",
        "        (grouped_median_train['Sex'] == row['Sex']) & \n",
        "        (grouped_median_train['Title'] == row['Title']) & \n",
        "        (grouped_median_train['Pclass'] == row['Pclass'])\n",
        "    ) \n",
        "    return grouped_median_train[condition]['Age'].values[0]\n",
        "\n",
        "\n",
        "def process_age():\n",
        "    global df_all\n",
        "    # a function that fills the missing values of the Age variable\n",
        "    df_all['Age'] = df_all.apply(lambda row: fill_age(row) if np.isnan(row['Age']) else row['Age'], axis=1)\n",
        "    return df_all\n",
        "\n",
        "df_all = process_age()"
      ],
      "execution_count": 0,
      "outputs": []
    },
    {
      "cell_type": "code",
      "metadata": {
        "id": "vW7bBQyLJ03p",
        "colab_type": "code",
        "outputId": "2508ac22-470c-4bf7-9f3d-24f5e463b4b6",
        "colab": {
          "base_uri": "https://localhost:8080/",
          "height": 238
        }
      },
      "source": [
        "print(df_all.isna().sum())"
      ],
      "execution_count": 0,
      "outputs": [
        {
          "output_type": "stream",
          "text": [
            "Age               0\n",
            "Cabin          1014\n",
            "Embarked          2\n",
            "Fare              1\n",
            "Parch             0\n",
            "PassengerId       0\n",
            "Pclass            0\n",
            "Sex               0\n",
            "SibSp             0\n",
            "Survived        418\n",
            "Ticket            0\n",
            "Title             0\n",
            "dtype: int64\n"
          ],
          "name": "stdout"
        }
      ]
    },
    {
      "cell_type": "markdown",
      "metadata": {
        "id": "0Kma1PkOKzeI",
        "colab_type": "text"
      },
      "source": [
        "# **Processing de la variable 'Fare'**"
      ]
    },
    {
      "cell_type": "markdown",
      "metadata": {
        "id": "jgwNh8pCLOdD",
        "colab_type": "text"
      },
      "source": [
        "On remplace la variable 'Fare' manquante par la valeur de la moyenne des 'Fare' du **Training Set**."
      ]
    },
    {
      "cell_type": "code",
      "metadata": {
        "id": "uU4_H-N6K7mm",
        "colab_type": "code",
        "colab": {}
      },
      "source": [
        "def process_fare():    \n",
        "  global df_all\n",
        "  # there's one missing fare value - replacing it with the mean.\n",
        "  df_all.Fare.fillna(df_all.iloc[:891].Fare.mean(), inplace=True)\n",
        "  return df_all\n",
        "\n",
        "df_all=process_fare()"
      ],
      "execution_count": 0,
      "outputs": []
    },
    {
      "cell_type": "code",
      "metadata": {
        "id": "fGOamLetLMyq",
        "colab_type": "code",
        "outputId": "aefdc316-f38d-440f-91fa-2280d449ab8c",
        "colab": {
          "base_uri": "https://localhost:8080/",
          "height": 238
        }
      },
      "source": [
        "print(df_all.isna().sum())"
      ],
      "execution_count": 0,
      "outputs": [
        {
          "output_type": "stream",
          "text": [
            "Age               0\n",
            "Cabin          1014\n",
            "Embarked          2\n",
            "Fare              0\n",
            "Parch             0\n",
            "PassengerId       0\n",
            "Pclass            0\n",
            "Sex               0\n",
            "SibSp             0\n",
            "Survived        418\n",
            "Ticket            0\n",
            "Title             0\n",
            "dtype: int64\n"
          ],
          "name": "stdout"
        }
      ]
    },
    {
      "cell_type": "markdown",
      "metadata": {
        "id": "CZMru0CsLbVq",
        "colab_type": "text"
      },
      "source": [
        "# **Processing de la variable 'Embarked**\n"
      ]
    },
    {
      "cell_type": "code",
      "metadata": {
        "id": "8bFRjO0OGX76",
        "colab_type": "code",
        "colab": {}
      },
      "source": [
        "#Traitement variable 'Embarked'\n",
        "def process_embarked():\n",
        "  global df_all\n",
        "  df_all.Embarked.fillna(value='S', inplace=True)\n",
        "\n",
        "  return df_all\n",
        "\n",
        "df_all= process_embarked()"
      ],
      "execution_count": 0,
      "outputs": []
    },
    {
      "cell_type": "markdown",
      "metadata": {
        "id": "ij0rwJujM17j",
        "colab_type": "text"
      },
      "source": [
        "# **Processing de la variable 'Cabin'**"
      ]
    },
    {
      "cell_type": "markdown",
      "metadata": {
        "id": "MgKu5AoINVbJ",
        "colab_type": "text"
      },
      "source": [
        "Remplacement de la variable Cabin par la première lettre A, B , C etc.. si la variable est présente, sinon est est remplacée par la lettre U qui correspond à Unknown."
      ]
    },
    {
      "cell_type": "code",
      "metadata": {
        "id": "9jjIYr5IMHEZ",
        "colab_type": "code",
        "colab": {}
      },
      "source": [
        "def process_cabin():\n",
        "    global df_all  \n",
        "    # replacing missing cabins with U (for Uknown)\n",
        "    df_all.Cabin.fillna('U', inplace=True)\n",
        "    \n",
        "    # mapping each Cabin value with the cabin letter\n",
        "    df_all['Cabin'] = df_all['Cabin'].map(lambda c: c[0])\n",
        "    return df_all\n",
        "\n",
        "df_all = process_cabin()"
      ],
      "execution_count": 0,
      "outputs": []
    },
    {
      "cell_type": "code",
      "metadata": {
        "id": "ZdJ5zcoyNQP3",
        "colab_type": "code",
        "outputId": "6f1d5d5c-259c-4082-d5ac-df946254ea1a",
        "colab": {
          "base_uri": "https://localhost:8080/",
          "height": 221
        }
      },
      "source": [
        "print(df_all.isna().sum())"
      ],
      "execution_count": 0,
      "outputs": [
        {
          "output_type": "stream",
          "text": [
            "Age              0\n",
            "Fare             0\n",
            "Parch            0\n",
            "PassengerId      0\n",
            "Pclass           0\n",
            "                ..\n",
            "Title_Mr         0\n",
            "Title_Mrs        0\n",
            "Title_Officer    0\n",
            "Title_Other      0\n",
            "Title_Royalty    0\n",
            "Length: 69, dtype: int64\n"
          ],
          "name": "stdout"
        }
      ]
    },
    {
      "cell_type": "markdown",
      "metadata": {
        "id": "oq142Sr4N_qN",
        "colab_type": "text"
      },
      "source": [
        "# **Processing de la variable 'Ticket'**"
      ]
    },
    {
      "cell_type": "code",
      "metadata": {
        "id": "MwJGkQ2gOBOS",
        "colab_type": "code",
        "colab": {}
      },
      "source": [
        "def process_ticket():\n",
        "    \n",
        "    global df_all\n",
        "    \n",
        "    # a function that extracts each prefix of the ticket, returns 'XXX' if no prefix (i.e the ticket is a digit)\n",
        "    def cleanTicket(ticket):\n",
        "        ticket = ticket.replace('.','')\n",
        "        ticket = ticket.replace('/','')\n",
        "        ticket = ticket.split()\n",
        "        ticket = map(lambda t : t.strip(), ticket)\n",
        "        ticket = list(filter(lambda t : not t.isdigit(), ticket))\n",
        "        if len(ticket) > 0:\n",
        "            return ticket[0]\n",
        "        else: \n",
        "            return 'XXX'\n",
        "\n",
        "    df_all['Ticket'] = df_all['Ticket'].map(cleanTicket)\n",
        "    #df_all.drop('Ticket', inplace=True, axis=1)\n",
        "\n",
        "    return df_all\n",
        "\n",
        "df_all = process_ticket()"
      ],
      "execution_count": 0,
      "outputs": []
    },
    {
      "cell_type": "markdown",
      "metadata": {
        "id": "mjotCc9SP32k",
        "colab_type": "text"
      },
      "source": [
        "# **Création de la variable 'FamilySize'**"
      ]
    },
    {
      "cell_type": "code",
      "metadata": {
        "id": "Cr4rwkJaP4VX",
        "colab_type": "code",
        "colab": {}
      },
      "source": [
        "def process_family():\n",
        "    \n",
        "    global df_all\n",
        "    # introducing a new feature : the size of families (including the passenger)\n",
        "    df_all['FamilySize'] = df_all['Parch'] + df_all['SibSp'] + 1\n",
        "    \n",
        "    # introducing other features based on the family size\n",
        "    df_all['Singleton'] = df_all['FamilySize'].map(lambda s: 1 if s == 1 else 0)\n",
        "    df_all['SmallFamily'] = df_all['FamilySize'].map(lambda s: 1 if 2 <= s <= 4 else 0)\n",
        "    df_all['LargeFamily'] = df_all['FamilySize'].map(lambda s: 1 if 5 <= s else 0)\n",
        "\n",
        "    return df_all\n",
        "\n",
        "df_all = process_family()"
      ],
      "execution_count": 0,
      "outputs": []
    },
    {
      "cell_type": "markdown",
      "metadata": {
        "id": "08m8IpSQ7M3Q",
        "colab_type": "text"
      },
      "source": [
        "### **Ajout de la variable 'Child'**"
      ]
    },
    {
      "cell_type": "code",
      "metadata": {
        "id": "XRjzCsVb7VE7",
        "colab_type": "code",
        "outputId": "c82c436c-25e5-4e99-8080-728b630bb448",
        "colab": {
          "base_uri": "https://localhost:8080/",
          "height": 34
        }
      },
      "source": [
        "def IsChild(age):\n",
        "  if(age<8):\n",
        "    return(1)\n",
        "  else:\n",
        "    return(0)\n",
        "\n",
        "df_all['Child']= df_all['Age'].apply(IsChild)\n",
        "df_all.head()\n",
        "print(df_all.shape)"
      ],
      "execution_count": 0,
      "outputs": [
        {
          "output_type": "stream",
          "text": [
            "(1309, 17)\n"
          ],
          "name": "stdout"
        }
      ]
    },
    {
      "cell_type": "code",
      "metadata": {
        "id": "77d3eGC0RDVO",
        "colab_type": "code",
        "outputId": "9afe8fd3-6e58-46b4-9759-0fa7077e7a6f",
        "colab": {
          "base_uri": "https://localhost:8080/",
          "height": 253
        }
      },
      "source": [
        "df_all.head()"
      ],
      "execution_count": 0,
      "outputs": [
        {
          "output_type": "execute_result",
          "data": {
            "text/html": [
              "<div>\n",
              "<style scoped>\n",
              "    .dataframe tbody tr th:only-of-type {\n",
              "        vertical-align: middle;\n",
              "    }\n",
              "\n",
              "    .dataframe tbody tr th {\n",
              "        vertical-align: top;\n",
              "    }\n",
              "\n",
              "    .dataframe thead th {\n",
              "        text-align: right;\n",
              "    }\n",
              "</style>\n",
              "<table border=\"1\" class=\"dataframe\">\n",
              "  <thead>\n",
              "    <tr style=\"text-align: right;\">\n",
              "      <th></th>\n",
              "      <th>Age</th>\n",
              "      <th>Cabin</th>\n",
              "      <th>Embarked</th>\n",
              "      <th>Fare</th>\n",
              "      <th>Parch</th>\n",
              "      <th>PassengerId</th>\n",
              "      <th>Pclass</th>\n",
              "      <th>Sex</th>\n",
              "      <th>...</th>\n",
              "      <th>Survived</th>\n",
              "      <th>Ticket</th>\n",
              "      <th>Title</th>\n",
              "      <th>FamilySize</th>\n",
              "      <th>Singleton</th>\n",
              "      <th>SmallFamily</th>\n",
              "      <th>LargeFamily</th>\n",
              "      <th>Child</th>\n",
              "    </tr>\n",
              "  </thead>\n",
              "  <tbody>\n",
              "    <tr>\n",
              "      <th>0</th>\n",
              "      <td>22.0</td>\n",
              "      <td>U</td>\n",
              "      <td>S</td>\n",
              "      <td>7.2500</td>\n",
              "      <td>0</td>\n",
              "      <td>1</td>\n",
              "      <td>3</td>\n",
              "      <td>male</td>\n",
              "      <td>...</td>\n",
              "      <td>0.0</td>\n",
              "      <td>A5</td>\n",
              "      <td>Mr</td>\n",
              "      <td>2</td>\n",
              "      <td>0</td>\n",
              "      <td>1</td>\n",
              "      <td>0</td>\n",
              "      <td>0</td>\n",
              "    </tr>\n",
              "    <tr>\n",
              "      <th>1</th>\n",
              "      <td>38.0</td>\n",
              "      <td>C</td>\n",
              "      <td>C</td>\n",
              "      <td>71.2833</td>\n",
              "      <td>0</td>\n",
              "      <td>2</td>\n",
              "      <td>1</td>\n",
              "      <td>female</td>\n",
              "      <td>...</td>\n",
              "      <td>1.0</td>\n",
              "      <td>PC</td>\n",
              "      <td>Mrs</td>\n",
              "      <td>2</td>\n",
              "      <td>0</td>\n",
              "      <td>1</td>\n",
              "      <td>0</td>\n",
              "      <td>0</td>\n",
              "    </tr>\n",
              "    <tr>\n",
              "      <th>2</th>\n",
              "      <td>26.0</td>\n",
              "      <td>U</td>\n",
              "      <td>S</td>\n",
              "      <td>7.9250</td>\n",
              "      <td>0</td>\n",
              "      <td>3</td>\n",
              "      <td>3</td>\n",
              "      <td>female</td>\n",
              "      <td>...</td>\n",
              "      <td>1.0</td>\n",
              "      <td>STONO2</td>\n",
              "      <td>Miss</td>\n",
              "      <td>1</td>\n",
              "      <td>1</td>\n",
              "      <td>0</td>\n",
              "      <td>0</td>\n",
              "      <td>0</td>\n",
              "    </tr>\n",
              "    <tr>\n",
              "      <th>3</th>\n",
              "      <td>35.0</td>\n",
              "      <td>C</td>\n",
              "      <td>S</td>\n",
              "      <td>53.1000</td>\n",
              "      <td>0</td>\n",
              "      <td>4</td>\n",
              "      <td>1</td>\n",
              "      <td>female</td>\n",
              "      <td>...</td>\n",
              "      <td>1.0</td>\n",
              "      <td>XXX</td>\n",
              "      <td>Mrs</td>\n",
              "      <td>2</td>\n",
              "      <td>0</td>\n",
              "      <td>1</td>\n",
              "      <td>0</td>\n",
              "      <td>0</td>\n",
              "    </tr>\n",
              "    <tr>\n",
              "      <th>4</th>\n",
              "      <td>35.0</td>\n",
              "      <td>U</td>\n",
              "      <td>S</td>\n",
              "      <td>8.0500</td>\n",
              "      <td>0</td>\n",
              "      <td>5</td>\n",
              "      <td>3</td>\n",
              "      <td>male</td>\n",
              "      <td>...</td>\n",
              "      <td>0.0</td>\n",
              "      <td>XXX</td>\n",
              "      <td>Mr</td>\n",
              "      <td>1</td>\n",
              "      <td>1</td>\n",
              "      <td>0</td>\n",
              "      <td>0</td>\n",
              "      <td>0</td>\n",
              "    </tr>\n",
              "  </tbody>\n",
              "</table>\n",
              "<p>5 rows × 17 columns</p>\n",
              "</div>"
            ],
            "text/plain": [
              "    Age Cabin Embarked     Fare  Parch  PassengerId  Pclass     Sex  ...  \\\n",
              "0  22.0     U        S   7.2500      0            1       3    male  ...   \n",
              "1  38.0     C        C  71.2833      0            2       1  female  ...   \n",
              "2  26.0     U        S   7.9250      0            3       3  female  ...   \n",
              "3  35.0     C        S  53.1000      0            4       1  female  ...   \n",
              "4  35.0     U        S   8.0500      0            5       3    male  ...   \n",
              "\n",
              "   Survived  Ticket Title FamilySize  Singleton  SmallFamily  LargeFamily  \\\n",
              "0       0.0      A5    Mr          2          0            1            0   \n",
              "1       1.0      PC   Mrs          2          0            1            0   \n",
              "2       1.0  STONO2  Miss          1          1            0            0   \n",
              "3       1.0     XXX   Mrs          2          0            1            0   \n",
              "4       0.0     XXX    Mr          1          1            0            0   \n",
              "\n",
              "   Child  \n",
              "0      0  \n",
              "1      0  \n",
              "2      0  \n",
              "3      0  \n",
              "4      0  \n",
              "\n",
              "[5 rows x 17 columns]"
            ]
          },
          "metadata": {
            "tags": []
          },
          "execution_count": 326
        }
      ]
    },
    {
      "cell_type": "code",
      "metadata": {
        "id": "NTUR71VJAe7B",
        "colab_type": "code",
        "outputId": "6fa32c9d-ab76-4331-89bf-f331ba8e4c39",
        "colab": {
          "base_uri": "https://localhost:8080/",
          "height": 442
        }
      },
      "source": [
        "\n",
        "#Transform Categorical Variables to Ordinal Variables\n",
        "def deal_categorical_variables(df):\n",
        "  df['Sex'] = df['Sex'].astype('category')\n",
        "  df['Sex']= df['Sex'].cat.codes\n",
        "\n",
        "  #Variable 'Embarked'\n",
        "  embarked_dummies = pd.get_dummies(df['Embarked'], prefix='Embarked')\n",
        "  df = pd.concat([df, embarked_dummies], axis=1)\n",
        "  df.drop('Embarked', axis=1, inplace=True)\n",
        "\n",
        "  #Variable 'Cabin'\n",
        "  cabin_dummies = pd.get_dummies(df['Cabin'], prefix='Cabin')\n",
        "  df = pd.concat([df, cabin_dummies], axis=1)\n",
        "  df.drop('Cabin', axis=1, inplace=True)\n",
        "\n",
        "  #Variable 'Ticket'\n",
        "  ticket_dummies = pd.get_dummies(df['Ticket'], prefix='Ticket')\n",
        "  df = pd.concat([df, ticket_dummies], axis=1)\n",
        "  df.drop('Ticket', axis=1, inplace=True)\n",
        "\n",
        "  #Variable 'Title'\n",
        "  title_dummies = pd.get_dummies(df['Title'], prefix='Title')\n",
        "  df = pd.concat([df, title_dummies], axis=1)\n",
        "  df.drop('Title', axis=1, inplace=True)\n",
        "\n",
        "  return df\n",
        "\n",
        "df_all= deal_categorical_variables(df_all)\n",
        "df_all.head()\n",
        "\n",
        "\n",
        "df_train=df_all.iloc[:891]\n",
        "df_test=df_all.iloc[891:]\n",
        "\n",
        "\n",
        "print(\"Training DataFrame:\")\n",
        "print(df_all.head(5))\n",
        "\n",
        "print(\"Df Train Shape: \"+str(df_train.shape))\n",
        "print(\"Df Test Shape: \"+str(df_test.shape))"
      ],
      "execution_count": 0,
      "outputs": [
        {
          "output_type": "stream",
          "text": [
            "Training DataFrame:\n",
            "    Age     Fare  Parch  PassengerId  Pclass  Sex  SibSp  Survived  ...  \\\n",
            "0  22.0   7.2500      0            1       3    1      1       0.0  ...   \n",
            "1  38.0  71.2833      0            2       1    0      1       1.0  ...   \n",
            "2  26.0   7.9250      0            3       3    0      0       1.0  ...   \n",
            "3  35.0  53.1000      0            4       1    0      1       1.0  ...   \n",
            "4  35.0   8.0500      0            5       3    1      0       0.0  ...   \n",
            "\n",
            "   Ticket_XXX  Title_Master  Title_Miss  Title_Mr  Title_Mrs  Title_Officer  \\\n",
            "0           0             0           0         1          0              0   \n",
            "1           0             0           0         0          1              0   \n",
            "2           0             0           1         0          0              0   \n",
            "3           1             0           0         0          1              0   \n",
            "4           1             0           0         1          0              0   \n",
            "\n",
            "   Title_Other  Title_Royalty  \n",
            "0            0              0  \n",
            "1            0              0  \n",
            "2            0              0  \n",
            "3            0              0  \n",
            "4            0              0  \n",
            "\n",
            "[5 rows x 69 columns]\n",
            "Df Train Shape: (891, 69)\n",
            "Df Test Shape: (418, 69)\n"
          ],
          "name": "stdout"
        }
      ]
    },
    {
      "cell_type": "markdown",
      "metadata": {
        "id": "iA7dbZAKFSUo",
        "colab_type": "text"
      },
      "source": [
        "# **Equilibrage des classes**"
      ]
    },
    {
      "cell_type": "code",
      "metadata": {
        "id": "BJZjW9uz_kz3",
        "colab_type": "code",
        "outputId": "8d9c1cb8-2352-4d04-bb31-1e52eeba4b39",
        "colab": {
          "base_uri": "https://localhost:8080/",
          "height": 68
        }
      },
      "source": [
        "#df.hist(column=['Survived'])\n",
        "from sklearn import preprocessing\n",
        "\"\"\"\n",
        "alive=df_train[df.Survived==1]\n",
        "dead=df_train[df.Survived==0]\n",
        "\n",
        "dead_downsampled=resample(dead, replace=False, \n",
        "                                  n_samples=len(alive), #Match Minority\n",
        "                                  random_state=42) #Reproductible Result\n",
        "df_train_final=pd.concat([dead_downsampled, alive])\n",
        "df_train_final = shuffle(df_train_final)\n",
        "#df_final.hist(column=['Survived'])\n",
        "\"\"\"\n",
        "X_train=df_train.drop('Survived' , axis=1)\n",
        "X_train.drop('PassengerId', axis=1, inplace=True)\n",
        "y_train=df_train.Survived\n",
        "\n",
        "\n",
        "\n",
        "X_test=df_test.drop('Survived' , axis=1)\n",
        "X_test.drop('PassengerId' , axis=1, inplace=True)\n",
        "\n",
        "print(\"X_train Shape :\"+str(X_train.shape))\n",
        "print(\"y_train Shape :\"+str(y_train.shape))\n",
        "print(\"X_test Shape :\"+str(X_test.shape))"
      ],
      "execution_count": 0,
      "outputs": [
        {
          "output_type": "stream",
          "text": [
            "X_train Shape :(891, 67)\n",
            "y_train Shape :(891,)\n",
            "X_test Shape :(418, 67)\n"
          ],
          "name": "stdout"
        }
      ]
    },
    {
      "cell_type": "markdown",
      "metadata": {
        "id": "g5KOvvfFHKrZ",
        "colab_type": "text"
      },
      "source": [
        "# **Machine Learning Models**"
      ]
    },
    {
      "cell_type": "code",
      "metadata": {
        "id": "zCuQep05HeWe",
        "colab_type": "code",
        "colab": {}
      },
      "source": [
        "from sklearn.model_selection import cross_val_score\n",
        "import numpy as np\n",
        "\n",
        "\n",
        "def compute_score(clf, scoring='accuracy', x_train= X_train):\n",
        "    xval = cross_val_score(clf, x_train, y_train, cv = 5, scoring=scoring)\n",
        "\n",
        "    y_pred=clf.predict(x_train)\n",
        "\n",
        "    results=[np.mean(xval), metrics.f1_score(y_train, y_pred), metrics.roc_auc_score(y_train, y_pred), metrics.classification_report(y_train, y_pred, output_dict=False)]\n",
        "    #results=[metrics.accuracy_score(y_train, y_pred), metrics.f1_score(y_train, y_pred), metrics.roc_auc_score(y_train, y_pred)]\n",
        "    print('Accuracy score: %.2f' % results[0]) \n",
        "    print('F1 score: %.2f' % results[1])\n",
        "    print('AUC score: %.2f' % results[2])\n",
        "    #print('Log Loss score: %.2f' % results[1])\n",
        "    #print('R2 score: %.2f' % results[2])\n",
        "    #print('Mean Absolute Error: %.2f'% results[3]) \n",
        "    #print('Mean Squared Error: %.2f'% results[4])\n",
        "    return results"
      ],
      "execution_count": 0,
      "outputs": []
    },
    {
      "cell_type": "markdown",
      "metadata": {
        "id": "xRPABPggLpek",
        "colab_type": "text"
      },
      "source": [
        "## Regression Logistique\n"
      ]
    },
    {
      "cell_type": "code",
      "metadata": {
        "id": "ffjrNmV8HKBh",
        "colab_type": "code",
        "outputId": "029d0474-bec4-47c2-f0e1-d6e33a9a18ec",
        "colab": {
          "base_uri": "https://localhost:8080/",
          "height": 309
        }
      },
      "source": [
        "from sklearn.linear_model import LogisticRegression\n",
        "from sklearn import metrics\n",
        "\n",
        "Lr=LogisticRegression(solver='lbfgs')\n",
        "#Entrainement du modèle\n",
        "Lr.fit(X_train, y_train)\n",
        "\n",
        "scores_lr=compute_score(Lr)\n",
        "print(scores_lr[0])"
      ],
      "execution_count": 0,
      "outputs": [
        {
          "output_type": "stream",
          "text": [
            "/usr/local/lib/python3.6/dist-packages/sklearn/linear_model/logistic.py:947: ConvergenceWarning: lbfgs failed to converge. Increase the number of iterations.\n",
            "  \"of iterations.\", ConvergenceWarning)\n",
            "/usr/local/lib/python3.6/dist-packages/sklearn/linear_model/logistic.py:947: ConvergenceWarning: lbfgs failed to converge. Increase the number of iterations.\n",
            "  \"of iterations.\", ConvergenceWarning)\n",
            "/usr/local/lib/python3.6/dist-packages/sklearn/linear_model/logistic.py:947: ConvergenceWarning: lbfgs failed to converge. Increase the number of iterations.\n",
            "  \"of iterations.\", ConvergenceWarning)\n",
            "/usr/local/lib/python3.6/dist-packages/sklearn/linear_model/logistic.py:947: ConvergenceWarning: lbfgs failed to converge. Increase the number of iterations.\n",
            "  \"of iterations.\", ConvergenceWarning)\n",
            "/usr/local/lib/python3.6/dist-packages/sklearn/linear_model/logistic.py:947: ConvergenceWarning: lbfgs failed to converge. Increase the number of iterations.\n",
            "  \"of iterations.\", ConvergenceWarning)\n"
          ],
          "name": "stderr"
        },
        {
          "output_type": "stream",
          "text": [
            "Accuracy score: 0.83\n",
            "F1 score: 0.79\n",
            "AUC score: 0.83\n",
            "0.8260857291703239\n"
          ],
          "name": "stdout"
        },
        {
          "output_type": "stream",
          "text": [
            "/usr/local/lib/python3.6/dist-packages/sklearn/linear_model/logistic.py:947: ConvergenceWarning: lbfgs failed to converge. Increase the number of iterations.\n",
            "  \"of iterations.\", ConvergenceWarning)\n"
          ],
          "name": "stderr"
        }
      ]
    },
    {
      "cell_type": "markdown",
      "metadata": {
        "id": "xGIABHAVL9fX",
        "colab_type": "text"
      },
      "source": [
        "***SVM***"
      ]
    },
    {
      "cell_type": "code",
      "metadata": {
        "id": "OmdCYcOlL_Eq",
        "colab_type": "code",
        "outputId": "e549652a-260f-405e-ffc6-6bbbe7da6c7c",
        "colab": {
          "base_uri": "https://localhost:8080/",
          "height": 68
        }
      },
      "source": [
        "from sklearn import svm\n",
        "\n",
        "svm = svm.SVC(gamma= 'auto',probability = True) \n",
        "#Entrainement du modèle\n",
        "svm.fit(X_train, y_train)\n",
        "#Obtention des scores\n",
        "scores_svm=compute_score(svm)"
      ],
      "execution_count": 0,
      "outputs": [
        {
          "output_type": "stream",
          "text": [
            "Accuracy score: 0.73\n",
            "F1 score: 0.79\n",
            "AUC score: 0.83\n"
          ],
          "name": "stdout"
        }
      ]
    },
    {
      "cell_type": "markdown",
      "metadata": {
        "id": "DunK_fOfLtJV",
        "colab_type": "text"
      },
      "source": [
        "***Random Forest***"
      ]
    },
    {
      "cell_type": "code",
      "metadata": {
        "id": "UUY5YcHaLwLI",
        "colab_type": "code",
        "outputId": "332485d2-32c6-4709-ee8e-9ce5897be2f5",
        "colab": {
          "base_uri": "https://localhost:8080/",
          "height": 68
        }
      },
      "source": [
        "from sklearn.ensemble import RandomForestClassifier, RandomForestRegressor \n",
        "\n",
        "rf = RandomForestClassifier(n_estimators=50, max_features='sqrt' , criterion= 'gini', max_depth=15, random_state=42) \n",
        "#Entrainement du modèle\n",
        "rf.fit(X_train, y_train)\n",
        "#Obtention des scores\n",
        "scores_rf=compute_score(rf)"
      ],
      "execution_count": 0,
      "outputs": [
        {
          "output_type": "stream",
          "text": [
            "Accuracy score: 0.82\n",
            "F1 score: 0.95\n",
            "AUC score: 0.96\n"
          ],
          "name": "stdout"
        }
      ]
    },
    {
      "cell_type": "code",
      "metadata": {
        "id": "Obdzv9J1NPLv",
        "colab_type": "code",
        "outputId": "483bb5e2-07f3-4d6e-a9d9-e9f157475959",
        "colab": {
          "base_uri": "https://localhost:8080/",
          "height": 578
        }
      },
      "source": [
        "feature_importances = pd.DataFrame(rf.feature_importances_,\n",
        "                                   index = X_train.columns,\n",
        "columns=['importance']). sort_values('importance', ascending=False)\n",
        "\n",
        "feature_importances.plot(kind='bar',figsize=(25,8),rot =45)"
      ],
      "execution_count": 0,
      "outputs": [
        {
          "output_type": "execute_result",
          "data": {
            "text/plain": [
              "<matplotlib.axes._subplots.AxesSubplot at 0x7f0f172134e0>"
            ]
          },
          "metadata": {
            "tags": []
          },
          "execution_count": 333
        },
        {
          "output_type": "display_data",
          "data": {
            "image/png": "[encoded data removed]",
            "text/plain": [
              "<Figure size 1800x576 with 1 Axes>"
            ]
          },
          "metadata": {
            "tags": []
          }
        }
      ]
    },
    {
      "cell_type": "code",
      "metadata": {
        "id": "aeE0uxwWk9OR",
        "colab_type": "code",
        "outputId": "2b6588b5-a9fa-43b5-91f0-3b7830a4218b",
        "colab": {
          "base_uri": "https://localhost:8080/",
          "height": 51
        }
      },
      "source": [
        "from sklearn.feature_selection import SelectFromModel\n",
        "model = SelectFromModel(rf, prefit=True)\n",
        "X_train_reduced = model.transform(X_train)\n",
        "print (X_train_reduced.shape)\n",
        "\n",
        "X_test_reduced = model.transform(X_test)\n",
        "print (X_test_reduced.shape)"
      ],
      "execution_count": 0,
      "outputs": [
        {
          "output_type": "stream",
          "text": [
            "(891, 13)\n",
            "(418, 13)\n"
          ],
          "name": "stdout"
        }
      ]
    },
    {
      "cell_type": "code",
      "metadata": {
        "id": "dN35ky76mRy2",
        "colab_type": "code",
        "outputId": "d2b190c5-9549-4f6d-b849-2082e30b18d6",
        "colab": {
          "base_uri": "https://localhost:8080/",
          "height": 68
        }
      },
      "source": [
        "rf2 = RandomForestClassifier(n_estimators=50, max_features='sqrt' , criterion= 'gini', max_depth=15, random_state=42) \n",
        "#Entrainement du modèle\n",
        "rf2.fit(X_train_reduced, y_train)\n",
        "#Obtention des scores\n",
        "scores_rf2=compute_score(rf)"
      ],
      "execution_count": 0,
      "outputs": [
        {
          "output_type": "stream",
          "text": [
            "Accuracy score: 0.82\n",
            "F1 score: 0.95\n",
            "AUC score: 0.96\n"
          ],
          "name": "stdout"
        }
      ]
    },
    {
      "cell_type": "code",
      "metadata": {
        "id": "ACq8uPiVeYSC",
        "colab_type": "code",
        "outputId": "d0258024-f4ad-41eb-9646-801f7365ee8f",
        "colab": {
          "base_uri": "https://localhost:8080/",
          "height": 296
        }
      },
      "source": [
        "import seaborn as sns\n",
        "sns.barplot(x='Sex', y='Survived', data=df_train)"
      ],
      "execution_count": 0,
      "outputs": [
        {
          "output_type": "execute_result",
          "data": {
            "text/plain": [
              "<matplotlib.axes._subplots.AxesSubplot at 0x7f0f170cc5c0>"
            ]
          },
          "metadata": {
            "tags": []
          },
          "execution_count": 336
        },
        {
          "output_type": "display_data",
          "data": {
            "image/png": "[encoded data removed]",
            "text/plain": [
              "<Figure size 432x288 with 1 Axes>"
            ]
          },
          "metadata": {
            "tags": []
          }
        }
      ]
    },
    {
      "cell_type": "markdown",
      "metadata": {
        "id": "z1Zyra_1BG9a",
        "colab_type": "text"
      },
      "source": [
        "Affichage corrélation Age et Sexe par rapport au critère de Survie"
      ]
    },
    {
      "cell_type": "code",
      "metadata": {
        "id": "qg5LzW5CgN1q",
        "colab_type": "code",
        "outputId": "96a49753-523d-498d-c96b-8349bffcf83b",
        "colab": {
          "base_uri": "https://localhost:8080/",
          "height": 279
        }
      },
      "source": [
        "fig = plt.figure(figsize=(10, 4))\n",
        "sns.violinplot(x='Sex', y='Age', \n",
        "               hue='Survived', data=df_train, \n",
        "               split=True,\n",
        "               palette={0: \"r\", 1: \"g\"}\n",
        ");"
      ],
      "execution_count": 0,
      "outputs": [
        {
          "output_type": "display_data",
          "data": {
            "image/png": "[encoded data removed]",
            "text/plain": [
              "<Figure size 720x288 with 1 Axes>"
            ]
          },
          "metadata": {
            "tags": []
          }
        }
      ]
    },
    {
      "cell_type": "markdown",
      "metadata": {
        "id": "57hCzqi9Brh4",
        "colab_type": "text"
      },
      "source": [
        "Affichage de la variable Fare par rapport au critère de Survie"
      ]
    },
    {
      "cell_type": "code",
      "metadata": {
        "id": "6ewQldR9BD-w",
        "colab_type": "code",
        "outputId": "3f2f4784-838b-4f43-9ec0-2811edd8a2b0",
        "colab": {
          "base_uri": "https://localhost:8080/",
          "height": 281
        }
      },
      "source": [
        "plt.hist([df_train[df_train['Survived'] == 1]['Fare'], df_train[df_train['Survived'] == 0]['Fare']], \n",
        "         stacked=True, color = ['g','r'],\n",
        "         bins = 50, label = ['Survived','Dead'])\n",
        "plt.xlabel('Fare')\n",
        "plt.ylabel('Number of passengers')\n",
        "plt.legend();"
      ],
      "execution_count": 0,
      "outputs": [
        {
          "output_type": "display_data",
          "data": {
            "image/png": "[encoded data removed]",
            "text/plain": [
              "<Figure size 432x288 with 1 Axes>"
            ]
          },
          "metadata": {
            "tags": []
          }
        }
      ]
    },
    {
      "cell_type": "markdown",
      "metadata": {
        "id": "NIAH-Tw9B0aH",
        "colab_type": "text"
      },
      "source": [
        "Passengers with cheaper ticket fares are more likely to die. Put differently, passengers with more expensive tickets, and therefore a more important social status, seem to be rescued first."
      ]
    },
    {
      "cell_type": "markdown",
      "metadata": {
        "id": "U_lCTAvH47Xv",
        "colab_type": "text"
      },
      "source": [
        "**MLP**"
      ]
    },
    {
      "cell_type": "code",
      "metadata": {
        "id": "V67s9Gxm5DIt",
        "colab_type": "code",
        "outputId": "eca606c2-3feb-442c-c763-8f1ea59ffc5a",
        "colab": {
          "base_uri": "https://localhost:8080/",
          "height": 68
        }
      },
      "source": [
        "from sklearn.neural_network import MLPClassifier\n",
        "mlp=MLPClassifier(hidden_layer_sizes=(14,),\n",
        "                                       activation='tanh',\n",
        "                                       solver='adam',\n",
        "                                       batch_size=int(0.05*len(df_train)),\n",
        "                                       learning_rate='adaptive',\n",
        "                                       max_iter=1000,\n",
        "                                       learning_rate_init=0.01,\n",
        "                                       alpha=0.01)\n",
        "#Entrainement du modèle\n",
        "mlp.fit(X_train, y_train)\n",
        "scores_mlp=compute_score(mlp)"
      ],
      "execution_count": 0,
      "outputs": [
        {
          "output_type": "stream",
          "text": [
            "Accuracy score: 0.82\n",
            "F1 score: 0.79\n",
            "AUC score: 0.83\n"
          ],
          "name": "stdout"
        }
      ]
    },
    {
      "cell_type": "markdown",
      "metadata": {
        "id": "4Bo9b6TSnPdN",
        "colab_type": "text"
      },
      "source": [
        "# ***Grid Search***"
      ]
    },
    {
      "cell_type": "markdown",
      "metadata": {
        "id": "SeOmRivDuTtt",
        "colab_type": "text"
      },
      "source": [
        "## *Random Forest*"
      ]
    },
    {
      "cell_type": "code",
      "metadata": {
        "id": "fHdkhHNYnSnz",
        "colab_type": "code",
        "outputId": "88ab4015-6222-42d6-d551-238248f82301",
        "colab": {
          "base_uri": "https://localhost:8080/",
          "height": 68
        }
      },
      "source": [
        "from sklearn.model_selection import StratifiedKFold, GridSearchCV\n",
        "\n",
        "# turn run_gs to True if you want to run the gridsearch again.\n",
        "run_gs = False\n",
        "\n",
        "if run_gs:\n",
        "    parameter_grid = {\n",
        "                 'max_depth' : [4, 6, 8],\n",
        "                 'n_estimators': [50, 10, 100, 300, 500, 1000],\n",
        "                 'max_features': ['sqrt', 'auto', 'log2'],\n",
        "                 'min_samples_split': [2, 3, 10],\n",
        "                 'min_samples_leaf': [1, 3, 10],\n",
        "                 'bootstrap': [True, False],\n",
        "                 }\n",
        "    forest = RandomForestClassifier()\n",
        "    cross_validation = StratifiedKFold(n_splits=5)\n",
        "\n",
        "    grid_search = GridSearchCV(forest,\n",
        "                               scoring='accuracy',\n",
        "                               param_grid=parameter_grid,\n",
        "                               cv=cross_validation,\n",
        "                               verbose=1\n",
        "                              )\n",
        "\n",
        "    grid_search.fit(X_train, y_train)\n",
        "    model = grid_search\n",
        "    parameters = grid_search.best_params_\n",
        "\n",
        "    print('Best score: {}'.format(grid_search.best_score_))\n",
        "    print('Best parameters: {}'.format(grid_search.best_params_))\n",
        "    \n",
        "else: \n",
        "    parameters = {'bootstrap': True, 'min_samples_leaf': 1, 'n_estimators': 10, \n",
        "                  'min_samples_split': 10, 'max_features': 'auto', 'max_depth': 6}\n",
        "    \n",
        "    rf_best = RandomForestClassifier(**parameters)\n",
        "    rf_best.fit(X_train, y_train)\n",
        "    scores_rf3=compute_score(rf_best)\n"
      ],
      "execution_count": 0,
      "outputs": [
        {
          "output_type": "stream",
          "text": [
            "Accuracy score: 0.82\n",
            "F1 score: 0.80\n",
            "AUC score: 0.83\n"
          ],
          "name": "stdout"
        }
      ]
    },
    {
      "cell_type": "markdown",
      "metadata": {
        "id": "bSrWM_siuZtE",
        "colab_type": "text"
      },
      "source": [
        "## *Logistical Regression*"
      ]
    },
    {
      "cell_type": "code",
      "metadata": {
        "id": "ArJPe9-duSo4",
        "colab_type": "code",
        "outputId": "e27575ba-e5ef-4ed2-843b-09006a0e2b91",
        "colab": {
          "base_uri": "https://localhost:8080/",
          "height": 292
        }
      },
      "source": [
        "# turn run_gs to True if you want to run the gridsearch again.\n",
        "run_gs = False\n",
        "\n",
        "if run_gs:\n",
        "    parameter_grid = {\n",
        "                 'penalty' : ['l2', 'none'],\n",
        "                 'C': [0.001, 0.01, 0.1, 1, 10, 100, 1000]\n",
        "                 }\n",
        "    Lr2 = LogisticRegression(solver='lbfgs')\n",
        "    cross_validation = StratifiedKFold(n_splits=5)\n",
        "\n",
        "    grid_search = GridSearchCV(Lr2,\n",
        "                               scoring='accuracy',\n",
        "                               param_grid=parameter_grid,\n",
        "                               cv=cross_validation,\n",
        "                               verbose=1\n",
        "                              )\n",
        "\n",
        "    grid_search.fit(X_train, y_train)\n",
        "    model = grid_search\n",
        "    parameters = grid_search.best_params_\n",
        "\n",
        "    print('Best score: {}'.format(grid_search.best_score_))\n",
        "    print('Best parameters: {}'.format(grid_search.best_params_))\n",
        "    \n",
        "else: \n",
        "    parameters = {'penalty' : 'l2', 'C': 100}\n",
        "    \n",
        "    Lr_best = LogisticRegression(**parameters)\n",
        "    Lr_best.fit(X_train, y_train)\n",
        "    scores_lr2=compute_score(Lr_best)"
      ],
      "execution_count": 0,
      "outputs": [
        {
          "output_type": "stream",
          "text": [
            "Accuracy score: 0.82\n",
            "F1 score: 0.80\n",
            "AUC score: 0.84\n"
          ],
          "name": "stdout"
        },
        {
          "output_type": "stream",
          "text": [
            "/usr/local/lib/python3.6/dist-packages/sklearn/linear_model/logistic.py:432: FutureWarning: Default solver will be changed to 'lbfgs' in 0.22. Specify a solver to silence this warning.\n",
            "  FutureWarning)\n",
            "/usr/local/lib/python3.6/dist-packages/sklearn/linear_model/logistic.py:432: FutureWarning: Default solver will be changed to 'lbfgs' in 0.22. Specify a solver to silence this warning.\n",
            "  FutureWarning)\n",
            "/usr/local/lib/python3.6/dist-packages/sklearn/linear_model/logistic.py:432: FutureWarning: Default solver will be changed to 'lbfgs' in 0.22. Specify a solver to silence this warning.\n",
            "  FutureWarning)\n",
            "/usr/local/lib/python3.6/dist-packages/sklearn/linear_model/logistic.py:432: FutureWarning: Default solver will be changed to 'lbfgs' in 0.22. Specify a solver to silence this warning.\n",
            "  FutureWarning)\n",
            "/usr/local/lib/python3.6/dist-packages/sklearn/linear_model/logistic.py:432: FutureWarning: Default solver will be changed to 'lbfgs' in 0.22. Specify a solver to silence this warning.\n",
            "  FutureWarning)\n",
            "/usr/local/lib/python3.6/dist-packages/sklearn/linear_model/logistic.py:432: FutureWarning: Default solver will be changed to 'lbfgs' in 0.22. Specify a solver to silence this warning.\n",
            "  FutureWarning)\n"
          ],
          "name": "stderr"
        }
      ]
    },
    {
      "cell_type": "markdown",
      "metadata": {
        "id": "T-jaIX1H2zAC",
        "colab_type": "text"
      },
      "source": [
        "***Gradient Boosting***"
      ]
    },
    {
      "cell_type": "code",
      "metadata": {
        "id": "3x1Wx-5X26Jg",
        "colab_type": "code",
        "outputId": "889d227e-d79c-4ca6-dd23-57553fcca11c",
        "colab": {
          "base_uri": "https://localhost:8080/",
          "height": 68
        }
      },
      "source": [
        "from sklearn.ensemble import GradientBoostingClassifier\n",
        "\n",
        "Gb = GradientBoostingClassifier(n_estimators=500)\n",
        "\n",
        "Gb.fit(X_train, y_train)\n",
        "scores_gb= compute_score(Gb)"
      ],
      "execution_count": 0,
      "outputs": [
        {
          "output_type": "stream",
          "text": [
            "Accuracy score: 0.83\n",
            "F1 score: 0.95\n",
            "AUC score: 0.96\n"
          ],
          "name": "stdout"
        }
      ]
    },
    {
      "cell_type": "code",
      "metadata": {
        "id": "w4V5Wq913uZC",
        "colab_type": "code",
        "outputId": "945a7639-fea9-46cf-8d0f-9bc1b0298d54",
        "colab": {
          "base_uri": "https://localhost:8080/",
          "height": 68
        }
      },
      "source": [
        "# turn run_gs to True if you want to run the gridsearch again.\n",
        "run_gs = False\n",
        "\n",
        "if run_gs:\n",
        "    parameter_grid = {\n",
        "                 'loss': ['deviance', 'exponential'],\n",
        "                 'learning_rate': [0.05, 0.06, 0.07, 0.09, 0.1],\n",
        "                 'n_estimators': [500, 600, 700]\n",
        "                 }\n",
        "    Gb2 = GradientBoostingClassifier()\n",
        "    cross_validation = StratifiedKFold(n_splits=5)\n",
        "\n",
        "    grid_search = GridSearchCV(Gb2,\n",
        "                               scoring='accuracy',\n",
        "                               param_grid=parameter_grid,\n",
        "                               cv=cross_validation,\n",
        "                               verbose=1\n",
        "                              )\n",
        "\n",
        "    grid_search.fit(X_train, y_train)\n",
        "    model = grid_search\n",
        "    parameters = grid_search.best_params_\n",
        "\n",
        "    print('Best score: {}'.format(grid_search.best_score_))\n",
        "    print('Best parameters: {}'.format(grid_search.best_params_))\n",
        "    \n",
        "else: \n",
        "    parameters = {'loss': 'exponential','learning_rate' : 0.05,  'n_estimators':500}\n",
        "    \n",
        "    Gb_best = GradientBoostingClassifier(**parameters)\n",
        "    Gb_best.fit(X_train, y_train)\n",
        "    scores_gb2=compute_score(Gb_best)"
      ],
      "execution_count": 0,
      "outputs": [
        {
          "output_type": "stream",
          "text": [
            "Accuracy score: 0.84\n",
            "F1 score: 0.90\n",
            "AUC score: 0.91\n"
          ],
          "name": "stdout"
        }
      ]
    },
    {
      "cell_type": "markdown",
      "metadata": {
        "id": "oc2ahLgoHzyu",
        "colab_type": "text"
      },
      "source": [
        "### **XG Boost**"
      ]
    },
    {
      "cell_type": "code",
      "metadata": {
        "id": "A1pm6okZFrG0",
        "colab_type": "code",
        "outputId": "fa27d05e-fda8-44e6-e270-73a01afc4505",
        "colab": {
          "base_uri": "https://localhost:8080/",
          "height": 68
        }
      },
      "source": [
        "from xgboost import XGBClassifier\n",
        "\n",
        "XGb = XGBClassifier()\n",
        "XGb.fit(X_train, y_train)\n",
        "\n",
        "scores_XGb=compute_score(XGb)"
      ],
      "execution_count": 0,
      "outputs": [
        {
          "output_type": "stream",
          "text": [
            "Accuracy score: 0.83\n",
            "F1 score: 0.84\n",
            "AUC score: 0.87\n"
          ],
          "name": "stdout"
        }
      ]
    },
    {
      "cell_type": "code",
      "metadata": {
        "id": "nUi2vBNjIDP6",
        "colab_type": "code",
        "outputId": "98705ddb-5d66-454c-bcc8-38e3f0c6971e",
        "colab": {
          "base_uri": "https://localhost:8080/",
          "height": 68
        }
      },
      "source": [
        "# turn run_gs to True if you want to run the gridsearch again.\n",
        "run_gs = False\n",
        "\n",
        "if run_gs:\n",
        "    parameter_grid = {\n",
        "                 'eta': [0.001, 0.005,0.01, 0.3],\n",
        "                 'max_depth': [7]\n",
        "                 }\n",
        "    xgb = XGBClassifier()\n",
        "    cross_validation = StratifiedKFold(n_splits=5)\n",
        "\n",
        "    grid_search = GridSearchCV(xgb,\n",
        "                               scoring='accuracy',\n",
        "                               param_grid=parameter_grid,\n",
        "                               cv=cross_validation,\n",
        "                               verbose=1\n",
        "                              )\n",
        "\n",
        "    grid_search.fit(X_train, y_train)\n",
        "    model = grid_search\n",
        "    parameters = grid_search.best_params_\n",
        "\n",
        "    print('Best score: {}'.format(grid_search.best_score_))\n",
        "    print('Best parameters: {}'.format(grid_search.best_params_))\n",
        "    \n",
        "else: \n",
        "    parameters = {'booster': 'gbtree', 'eta': 0.001, 'max_depth': 7}\n",
        "    \n",
        "    XGb_best = XGBClassifier(**parameters)\n",
        "    XGb_best.fit(X_train, y_train)\n",
        "    scores_XGb2=compute_score(XGb_best)"
      ],
      "execution_count": 0,
      "outputs": [
        {
          "output_type": "stream",
          "text": [
            "Accuracy score: 0.83\n",
            "F1 score: 0.92\n",
            "AUC score: 0.93\n"
          ],
          "name": "stdout"
        }
      ]
    },
    {
      "cell_type": "code",
      "metadata": {
        "id": "vxScIA27X6X9",
        "colab_type": "code",
        "outputId": "f92eb74b-d6ed-45d0-fcfa-a93a25e65d7d",
        "colab": {
          "base_uri": "https://localhost:8080/",
          "height": 578
        }
      },
      "source": [
        "feature_importances = pd.DataFrame(XGb.feature_importances_,\n",
        "                                   index = X_train.columns,\n",
        "columns=['importance']). sort_values('importance', ascending=False)\n",
        "\n",
        "feature_importances.plot(kind='bar',figsize=(25,8),rot =45)\n",
        "\n",
        "\n",
        "\"\"\"\n",
        "XGb_test =XGBClassifier(**parameters)\n",
        "XGb_test.fit(X_train_reduced, y_train)\n",
        "scores_XGb_test=compute_score(XGb_test, x_train= X_train_reduced)\n",
        "\"\"\""
      ],
      "execution_count": 0,
      "outputs": [
        {
          "output_type": "execute_result",
          "data": {
            "text/plain": [
              "'\\nXGb_test =XGBClassifier(**parameters)\\nXGb_test.fit(X_train_reduced, y_train)\\nscores_XGb_test=compute_score(XGb_test, x_train= X_train_reduced)\\n'"
            ]
          },
          "metadata": {
            "tags": []
          },
          "execution_count": 346
        },
        {
          "output_type": "display_data",
          "data": {
            "image/png": "[encoded data removed]",
            "text/plain": [
              "<Figure size 1800x576 with 1 Axes>"
            ]
          },
          "metadata": {
            "tags": []
          }
        }
      ]
    },
    {
      "cell_type": "code",
      "metadata": {
        "id": "hi6c_rlTbLOc",
        "colab_type": "code",
        "outputId": "30349255-c35f-4120-a9bf-92805dca5bd6",
        "colab": {
          "base_uri": "https://localhost:8080/",
          "height": 85
        }
      },
      "source": [
        "model = SelectFromModel(XGb, prefit=True)\n",
        "X_train_reduced = model.transform(X_train)\n",
        "print (X_train_reduced.shape)\n",
        "\n",
        "X_test_reduced = model.transform(X_test)\n",
        "\n",
        "XGb_test =XGBClassifier(**parameters)\n",
        "XGb_test.fit(X_train_reduced, y_train)\n",
        "scores_XGb_test=compute_score(XGb_test, x_train= X_train_reduced)"
      ],
      "execution_count": 0,
      "outputs": [
        {
          "output_type": "stream",
          "text": [
            "(891, 11)\n",
            "Accuracy score: 0.82\n",
            "F1 score: 0.87\n",
            "AUC score: 0.89\n"
          ],
          "name": "stdout"
        }
      ]
    },
    {
      "cell_type": "code",
      "metadata": {
        "id": "NEiEW_owSnaY",
        "colab_type": "code",
        "outputId": "df583d4a-d81e-492d-c8b9-a0c2502055cd",
        "colab": {
          "base_uri": "https://localhost:8080/",
          "height": 404
        }
      },
      "source": [
        "from sklearn.metrics import roc_curve\n",
        "\n",
        "def plot_ROC_curves(classifiers, classifiers_name):\n",
        "\n",
        "  fig, ax = plt.subplots(1, figsize=(12, 6))\n",
        "  \n",
        "  for clf, name in zip(classifiers, classifiers_name):\n",
        "\n",
        "    if(name[-7:]=='reduced'):\n",
        "      y_pred=clf.predict(X_train_reduced)\n",
        "    else:\n",
        "      y_pred=clf.predict(X_train)\n",
        "    fpr, tpr, thresholds = roc_curve(y_train, y_pred)\n",
        "    plt.plot(fpr, tpr, label=name)\n",
        "\n",
        "  plt.plot([0, 1], [0, 1], color='gray', label='Random Performance')\n",
        "  plt.xlabel('False Positive Rate')\n",
        "  plt.ylabel('True Positive Rate')\n",
        "  plt.title('Titanic ROC Curves')\n",
        "  plt.legend(loc=\"lower right\")\n",
        "\n",
        "plot_ROC_curves([XGb,XGb_best,XGb_test, Gb_best, rf_best, ensemble], ['XGBoost','XGBoost_GS','XGBoost_reduced','Gradient Boosting_GS', 'Random Forest', 'Ensemble'])"
      ],
      "execution_count": 0,
      "outputs": [
        {
          "output_type": "display_data",
          "data": {
            "image/png": "[encoded data removed]",
            "text/plain": [
              "<Figure size 864x432 with 1 Axes>"
            ]
          },
          "metadata": {
            "tags": []
          }
        }
      ]
    },
    {
      "cell_type": "code",
      "metadata": {
        "id": "yHP7Tk7zOQ1h",
        "colab_type": "code",
        "outputId": "5f0e7d91-a0d9-4c1d-e582-d7465db6aef5",
        "colab": {
          "base_uri": "https://localhost:8080/",
          "height": 170
        }
      },
      "source": [
        "print(scores_XGb[-1])"
      ],
      "execution_count": 0,
      "outputs": [
        {
          "output_type": "stream",
          "text": [
            "              precision    recall  f1-score   support\n",
            "\n",
            "         0.0       0.88      0.94      0.91       549\n",
            "         1.0       0.89      0.79      0.84       342\n",
            "\n",
            "    accuracy                           0.88       891\n",
            "   macro avg       0.89      0.87      0.87       891\n",
            "weighted avg       0.89      0.88      0.88       891\n",
            "\n"
          ],
          "name": "stdout"
        }
      ]
    },
    {
      "cell_type": "markdown",
      "metadata": {
        "id": "2PjdslQ9cLgS",
        "colab_type": "text"
      },
      "source": [
        "# **Test Fusion d'Algos par Vote**"
      ]
    },
    {
      "cell_type": "code",
      "metadata": {
        "id": "EsbzmXcBcK8o",
        "colab_type": "code",
        "outputId": "c7071a73-b7aa-4b4b-a6f8-ac33e4a3987f",
        "colab": {
          "base_uri": "https://localhost:8080/",
          "height": 68
        }
      },
      "source": [
        "from sklearn.ensemble import VotingClassifier\n",
        "\n",
        "xgb_ens=XGBClassifier()\n",
        "parameters_rf = {'bootstrap': True, 'min_samples_leaf': 1, 'n_estimators': 10, \n",
        "                  'min_samples_split': 10, 'max_features': 'auto', 'max_depth': 6}\n",
        "\n",
        "parameters_gb = {'loss': 'exponential','learning_rate' : 0.05,  'n_estimators':500}\n",
        "    \n",
        "rf_ens = RandomForestClassifier(**parameters_rf)\n",
        "gb_ens = GradientBoostingClassifier(**parameters_gb)\n",
        "\n",
        "\n",
        "\n",
        "estimators=[]\n",
        "estimators.append(('XGBoost', xgb_ens))\n",
        "estimators.append(('Random Forest GS', rf_ens))\n",
        "estimators.append(('Gb', gb_ens))\n",
        "ensemble = VotingClassifier(estimators)\n",
        "ensemble.fit(X_train, y_train)\n",
        "scores_ens= compute_score(ensemble)\n",
        "\n"
      ],
      "execution_count": 0,
      "outputs": [
        {
          "output_type": "stream",
          "text": [
            "Accuracy score: 0.84\n",
            "F1 score: 0.85\n",
            "AUC score: 0.88\n"
          ],
          "name": "stdout"
        }
      ]
    },
    {
      "cell_type": "markdown",
      "metadata": {
        "id": "rEl-ZZgHSrBC",
        "colab_type": "text"
      },
      "source": [
        "## **Ranking des méthodes de Machine Learning**"
      ]
    },
    {
      "cell_type": "code",
      "metadata": {
        "id": "kuSsbWEeSvJv",
        "colab_type": "code",
        "outputId": "993e4a8e-5b18-4455-ef11-efa05b7534e1",
        "colab": {
          "base_uri": "https://localhost:8080/",
          "height": 421
        }
      },
      "source": [
        "models = pd.DataFrame({\n",
        "    'Model': ['Logistic Regression','Logistic Regression Optimized','Support Vector Machines', \n",
        "              'Random Forest','Random Forest Optimized', 'Multi-Layers Perceptron', 'Gradient Boosting', 'Gradient Boosting Optimized', 'XGBoost', 'XGBoost_GS', 'XGBoost_reduced', 'Ensemble (XGBoost + RF GS)'],\n",
        "    'Accuracy': [scores_lr[0], scores_lr2[0], scores_svm[0], scores_rf[0], scores_rf3[0],scores_mlp[0], scores_gb[0], scores_gb2[0], scores_XGb[0], scores_XGb2[0], scores_XGb_test[0],  scores_ens[0]],\n",
        "    'F1 score': [scores_lr[1], scores_lr2[1], scores_svm[1], scores_rf[1], scores_rf3[1],scores_mlp[1], scores_gb[1], scores_gb2[1], scores_XGb[1], scores_XGb2[1], scores_XGb_test[1],  scores_ens[1]],\n",
        "    'AUC score':[scores_lr[2], scores_lr2[2], scores_svm[2], scores_rf[2], scores_rf3[2],scores_mlp[2], scores_gb[2], scores_gb2[2], scores_XGb[2], scores_XGb2[2], scores_XGb_test[2],  scores_ens[2]]})\n",
        "models.sort_values(by='Accuracy', ascending=False)"
      ],
      "execution_count": 0,
      "outputs": [
        {
          "output_type": "execute_result",
          "data": {
            "text/html": [
              "<div>\n",
              "<style scoped>\n",
              "    .dataframe tbody tr th:only-of-type {\n",
              "        vertical-align: middle;\n",
              "    }\n",
              "\n",
              "    .dataframe tbody tr th {\n",
              "        vertical-align: top;\n",
              "    }\n",
              "\n",
              "    .dataframe thead th {\n",
              "        text-align: right;\n",
              "    }\n",
              "</style>\n",
              "<table border=\"1\" class=\"dataframe\">\n",
              "  <thead>\n",
              "    <tr style=\"text-align: right;\">\n",
              "      <th></th>\n",
              "      <th>Model</th>\n",
              "      <th>Accuracy</th>\n",
              "      <th>F1 score</th>\n",
              "      <th>AUC score</th>\n",
              "    </tr>\n",
              "  </thead>\n",
              "  <tbody>\n",
              "    <tr>\n",
              "      <th>11</th>\n",
              "      <td>Ensemble (XGBoost + RF GS)</td>\n",
              "      <td>0.839525</td>\n",
              "      <td>0.854460</td>\n",
              "      <td>0.877265</td>\n",
              "    </tr>\n",
              "    <tr>\n",
              "      <th>7</th>\n",
              "      <td>Gradient Boosting Optimized</td>\n",
              "      <td>0.837303</td>\n",
              "      <td>0.896024</td>\n",
              "      <td>0.911058</td>\n",
              "    </tr>\n",
              "    <tr>\n",
              "      <th>8</th>\n",
              "      <td>XGBoost</td>\n",
              "      <td>0.832815</td>\n",
              "      <td>0.840310</td>\n",
              "      <td>0.867055</td>\n",
              "    </tr>\n",
              "    <tr>\n",
              "      <th>9</th>\n",
              "      <td>XGBoost_GS</td>\n",
              "      <td>0.829437</td>\n",
              "      <td>0.921922</td>\n",
              "      <td>0.933348</td>\n",
              "    </tr>\n",
              "    <tr>\n",
              "      <th>6</th>\n",
              "      <td>Gradient Boosting</td>\n",
              "      <td>0.829431</td>\n",
              "      <td>0.948148</td>\n",
              "      <td>0.955997</td>\n",
              "    </tr>\n",
              "    <tr>\n",
              "      <th>0</th>\n",
              "      <td>Logistic Regression</td>\n",
              "      <td>0.826086</td>\n",
              "      <td>0.789238</td>\n",
              "      <td>0.828588</td>\n",
              "    </tr>\n",
              "    <tr>\n",
              "      <th>10</th>\n",
              "      <td>XGBoost_reduced</td>\n",
              "      <td>0.824956</td>\n",
              "      <td>0.867395</td>\n",
              "      <td>0.887307</td>\n",
              "    </tr>\n",
              "    <tr>\n",
              "      <th>1</th>\n",
              "      <td>Logistic Regression Optimized</td>\n",
              "      <td>0.819363</td>\n",
              "      <td>0.798808</td>\n",
              "      <td>0.836257</td>\n",
              "    </tr>\n",
              "    <tr>\n",
              "      <th>4</th>\n",
              "      <td>Random Forest Optimized</td>\n",
              "      <td>0.818233</td>\n",
              "      <td>0.795597</td>\n",
              "      <td>0.832542</td>\n",
              "    </tr>\n",
              "    <tr>\n",
              "      <th>3</th>\n",
              "      <td>Random Forest</td>\n",
              "      <td>0.818201</td>\n",
              "      <td>0.953101</td>\n",
              "      <td>0.956883</td>\n",
              "    </tr>\n",
              "    <tr>\n",
              "      <th>5</th>\n",
              "      <td>Multi-Layers Perceptron</td>\n",
              "      <td>0.817185</td>\n",
              "      <td>0.787136</td>\n",
              "      <td>0.826551</td>\n",
              "    </tr>\n",
              "    <tr>\n",
              "      <th>2</th>\n",
              "      <td>Support Vector Machines</td>\n",
              "      <td>0.725137</td>\n",
              "      <td>0.785924</td>\n",
              "      <td>0.826239</td>\n",
              "    </tr>\n",
              "  </tbody>\n",
              "</table>\n",
              "</div>"
            ],
            "text/plain": [
              "                            Model  Accuracy  F1 score  AUC score\n",
              "11     Ensemble (XGBoost + RF GS)  0.839525  0.854460   0.877265\n",
              "7     Gradient Boosting Optimized  0.837303  0.896024   0.911058\n",
              "8                         XGBoost  0.832815  0.840310   0.867055\n",
              "9                      XGBoost_GS  0.829437  0.921922   0.933348\n",
              "6               Gradient Boosting  0.829431  0.948148   0.955997\n",
              "0             Logistic Regression  0.826086  0.789238   0.828588\n",
              "10                XGBoost_reduced  0.824956  0.867395   0.887307\n",
              "1   Logistic Regression Optimized  0.819363  0.798808   0.836257\n",
              "4         Random Forest Optimized  0.818233  0.795597   0.832542\n",
              "3                   Random Forest  0.818201  0.953101   0.956883\n",
              "5         Multi-Layers Perceptron  0.817185  0.787136   0.826551\n",
              "2         Support Vector Machines  0.725137  0.785924   0.826239"
            ]
          },
          "metadata": {
            "tags": []
          },
          "execution_count": 351
        }
      ]
    },
    {
      "cell_type": "markdown",
      "metadata": {
        "id": "oPz7wqEVCxlK",
        "colab_type": "text"
      },
      "source": [
        "# **Upload des Résultats**"
      ]
    },
    {
      "cell_type": "code",
      "metadata": {
        "id": "x85HmIbiC0cl",
        "colab_type": "code",
        "outputId": "d1c45f77-59e9-473d-80c2-8c011c556a96",
        "colab": {
          "base_uri": "https://localhost:8080/",
          "height": 136
        }
      },
      "source": [
        "predictions=ensemble.predict(X_test)\n",
        "\n",
        "\n",
        "#Create a  DataFrame with the passengers ids and our prediction regarding whether they survived or not\n",
        "submission = pd.DataFrame({'PassengerId':df_test['PassengerId'],'Survived':predictions})\n",
        "submission['Survived']=submission['Survived'].apply(int)\n",
        "#Visualize the first 5 rows\n",
        "print(submission.head(5))\n",
        "\n",
        "\n",
        "#Convert DataFrame to a csv file that can be uploaded\n",
        "#This is saved in the same directory as your notebook\n",
        "filename = 'Titanic Predictions Ensemble.csv'\n",
        "\n",
        "submission.to_csv(\"/content/gdrive/My Drive/Kaggle/Titanic/\"+filename,index=False)\n",
        "\n",
        "print('Saved file: ' + filename)\n"
      ],
      "execution_count": 0,
      "outputs": [
        {
          "output_type": "stream",
          "text": [
            "   PassengerId  Survived\n",
            "0          892         0\n",
            "1          893         0\n",
            "2          894         0\n",
            "3          895         0\n",
            "4          896         0\n",
            "Saved file: Titanic Predictions Ensemble.csv\n"
          ],
          "name": "stdout"
        }
      ]
    },
    {
      "cell_type": "code",
      "metadata": {
        "id": "V2YPmabNMlLu",
        "colab_type": "code",
        "colab": {}
      },
      "source": [
        ""
      ],
      "execution_count": 0,
      "outputs": []
    }
  ]
}